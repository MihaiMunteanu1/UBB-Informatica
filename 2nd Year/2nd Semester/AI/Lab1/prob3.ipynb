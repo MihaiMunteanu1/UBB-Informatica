{
 "cells": [
  {
   "metadata": {},
   "cell_type": "markdown",
   "source": [
    "<h1>Problema 3</h1>\n",
    "\n",
    "<h3>A</h3>\n",
    "numarul de propozitii din text;\n"
   ],
   "id": "27593fdf917cfac0"
  },
  {
   "metadata": {
    "ExecuteTime": {
     "end_time": "2025-03-12T16:14:02.934710Z",
     "start_time": "2025-03-12T16:14:01.849083Z"
    }
   },
   "cell_type": "code",
   "source": [
    "\n",
    "import nltk\n",
    "import spacy\n",
    "from nltk import sent_tokenize, word_tokenize\n",
    "import matplotlib.pyplot as plt\n",
    "\n",
    "file_path = \"C:/Users/munte/PycharmProjects/AI/texts.txt\"\n",
    "\n",
    "with open(file_path, 'r', encoding='utf-8') as file:\n",
    "    text = file.read()\n",
    "\n",
    "propozitii = sent_tokenize(text)\n",
    "print(\"Numarul de propozitii din text:\", len(propozitii), \"\\n\")\n",
    "print(propozitii)\n"
   ],
   "id": "cf771099f3b6c1ff",
   "outputs": [
    {
     "ename": "RecursionError",
     "evalue": "maximum recursion depth exceeded",
     "output_type": "error",
     "traceback": [
      "\u001B[1;31m---------------------------------------------------------------------------\u001B[0m",
      "\u001B[1;31mRecursionError\u001B[0m                            Traceback (most recent call last)",
      "Cell \u001B[1;32mIn[8], line 4\u001B[0m\n\u001B[0;32m      1\u001B[0m \u001B[38;5;28;01mimport\u001B[39;00m \u001B[38;5;21;01msys\u001B[39;00m\n\u001B[0;32m      2\u001B[0m sys\u001B[38;5;241m.\u001B[39msetrecursionlimit(\u001B[38;5;241m22500\u001B[39m)\n\u001B[1;32m----> 4\u001B[0m \u001B[38;5;28;01mimport\u001B[39;00m \u001B[38;5;21;01mnltk\u001B[39;00m\n\u001B[0;32m      5\u001B[0m \u001B[38;5;28;01mimport\u001B[39;00m \u001B[38;5;21;01mspacy\u001B[39;00m\n\u001B[0;32m      6\u001B[0m \u001B[38;5;28;01mfrom\u001B[39;00m \u001B[38;5;21;01mnltk\u001B[39;00m \u001B[38;5;28;01mimport\u001B[39;00m sent_tokenize, word_tokenize\n",
      "File \u001B[1;32m~\\AppData\\Local\\Programs\\Python\\Python312\\Lib\\site-packages\\nltk\\__init__.py:133\u001B[0m\n\u001B[0;32m    125\u001B[0m     subprocess\u001B[38;5;241m.\u001B[39mPopen \u001B[38;5;241m=\u001B[39m _fake_Popen\n\u001B[0;32m    127\u001B[0m \u001B[38;5;66;03m###########################################################\u001B[39;00m\n\u001B[0;32m    128\u001B[0m \u001B[38;5;66;03m# TOP-LEVEL MODULES\u001B[39;00m\n\u001B[0;32m    129\u001B[0m \u001B[38;5;66;03m###########################################################\u001B[39;00m\n\u001B[0;32m    130\u001B[0m \n\u001B[0;32m    131\u001B[0m \u001B[38;5;66;03m# Import top-level functionality into top-level namespace\u001B[39;00m\n\u001B[1;32m--> 133\u001B[0m \u001B[38;5;28;01mfrom\u001B[39;00m \u001B[38;5;21;01mnltk\u001B[39;00m\u001B[38;5;21;01m.\u001B[39;00m\u001B[38;5;21;01mcollocations\u001B[39;00m \u001B[38;5;28;01mimport\u001B[39;00m \u001B[38;5;241m*\u001B[39m\n\u001B[0;32m    134\u001B[0m \u001B[38;5;28;01mfrom\u001B[39;00m \u001B[38;5;21;01mnltk\u001B[39;00m\u001B[38;5;21;01m.\u001B[39;00m\u001B[38;5;21;01mdecorators\u001B[39;00m \u001B[38;5;28;01mimport\u001B[39;00m decorator, memoize\n\u001B[0;32m    135\u001B[0m \u001B[38;5;28;01mfrom\u001B[39;00m \u001B[38;5;21;01mnltk\u001B[39;00m\u001B[38;5;21;01m.\u001B[39;00m\u001B[38;5;21;01mfeatstruct\u001B[39;00m \u001B[38;5;28;01mimport\u001B[39;00m \u001B[38;5;241m*\u001B[39m\n",
      "File \u001B[1;32m~\\AppData\\Local\\Programs\\Python\\Python312\\Lib\\site-packages\\nltk\\collocations.py:36\u001B[0m\n\u001B[0;32m     33\u001B[0m \u001B[38;5;28;01mimport\u001B[39;00m \u001B[38;5;21;01mitertools\u001B[39;00m \u001B[38;5;28;01mas\u001B[39;00m \u001B[38;5;21;01m_itertools\u001B[39;00m\n\u001B[0;32m     35\u001B[0m \u001B[38;5;66;03m# these two unused imports are referenced in collocations.doctest\u001B[39;00m\n\u001B[1;32m---> 36\u001B[0m \u001B[38;5;28;01mfrom\u001B[39;00m \u001B[38;5;21;01mnltk\u001B[39;00m\u001B[38;5;21;01m.\u001B[39;00m\u001B[38;5;21;01mmetrics\u001B[39;00m \u001B[38;5;28;01mimport\u001B[39;00m (\n\u001B[0;32m     37\u001B[0m     BigramAssocMeasures,\n\u001B[0;32m     38\u001B[0m     ContingencyMeasures,\n\u001B[0;32m     39\u001B[0m     QuadgramAssocMeasures,\n\u001B[0;32m     40\u001B[0m     TrigramAssocMeasures,\n\u001B[0;32m     41\u001B[0m )\n\u001B[0;32m     42\u001B[0m \u001B[38;5;28;01mfrom\u001B[39;00m \u001B[38;5;21;01mnltk\u001B[39;00m\u001B[38;5;21;01m.\u001B[39;00m\u001B[38;5;21;01mmetrics\u001B[39;00m\u001B[38;5;21;01m.\u001B[39;00m\u001B[38;5;21;01mspearman\u001B[39;00m \u001B[38;5;28;01mimport\u001B[39;00m ranks_from_scores, spearman_correlation\n\u001B[0;32m     43\u001B[0m \u001B[38;5;28;01mfrom\u001B[39;00m \u001B[38;5;21;01mnltk\u001B[39;00m\u001B[38;5;21;01m.\u001B[39;00m\u001B[38;5;21;01mprobability\u001B[39;00m \u001B[38;5;28;01mimport\u001B[39;00m FreqDist\n",
      "File \u001B[1;32m~\\AppData\\Local\\Programs\\Python\\Python312\\Lib\\site-packages\\nltk\\metrics\\__init__.py:18\u001B[0m\n\u001B[0;32m     16\u001B[0m \u001B[38;5;28;01mfrom\u001B[39;00m \u001B[38;5;21;01mnltk\u001B[39;00m\u001B[38;5;21;01m.\u001B[39;00m\u001B[38;5;21;01mmetrics\u001B[39;00m\u001B[38;5;21;01m.\u001B[39;00m\u001B[38;5;21;01magreement\u001B[39;00m \u001B[38;5;28;01mimport\u001B[39;00m AnnotationTask\n\u001B[0;32m     17\u001B[0m \u001B[38;5;28;01mfrom\u001B[39;00m \u001B[38;5;21;01mnltk\u001B[39;00m\u001B[38;5;21;01m.\u001B[39;00m\u001B[38;5;21;01mmetrics\u001B[39;00m\u001B[38;5;21;01m.\u001B[39;00m\u001B[38;5;21;01maline\u001B[39;00m \u001B[38;5;28;01mimport\u001B[39;00m align\n\u001B[1;32m---> 18\u001B[0m \u001B[38;5;28;01mfrom\u001B[39;00m \u001B[38;5;21;01mnltk\u001B[39;00m\u001B[38;5;21;01m.\u001B[39;00m\u001B[38;5;21;01mmetrics\u001B[39;00m\u001B[38;5;21;01m.\u001B[39;00m\u001B[38;5;21;01massociation\u001B[39;00m \u001B[38;5;28;01mimport\u001B[39;00m (\n\u001B[0;32m     19\u001B[0m     BigramAssocMeasures,\n\u001B[0;32m     20\u001B[0m     ContingencyMeasures,\n\u001B[0;32m     21\u001B[0m     NgramAssocMeasures,\n\u001B[0;32m     22\u001B[0m     QuadgramAssocMeasures,\n\u001B[0;32m     23\u001B[0m     TrigramAssocMeasures,\n\u001B[0;32m     24\u001B[0m )\n\u001B[0;32m     25\u001B[0m \u001B[38;5;28;01mfrom\u001B[39;00m \u001B[38;5;21;01mnltk\u001B[39;00m\u001B[38;5;21;01m.\u001B[39;00m\u001B[38;5;21;01mmetrics\u001B[39;00m\u001B[38;5;21;01m.\u001B[39;00m\u001B[38;5;21;01mconfusionmatrix\u001B[39;00m \u001B[38;5;28;01mimport\u001B[39;00m ConfusionMatrix\n\u001B[0;32m     26\u001B[0m \u001B[38;5;28;01mfrom\u001B[39;00m \u001B[38;5;21;01mnltk\u001B[39;00m\u001B[38;5;21;01m.\u001B[39;00m\u001B[38;5;21;01mmetrics\u001B[39;00m\u001B[38;5;21;01m.\u001B[39;00m\u001B[38;5;21;01mdistance\u001B[39;00m \u001B[38;5;28;01mimport\u001B[39;00m (\n\u001B[0;32m     27\u001B[0m     binary_distance,\n\u001B[0;32m     28\u001B[0m     custom_distance,\n\u001B[1;32m   (...)\u001B[0m\n\u001B[0;32m     35\u001B[0m     presence,\n\u001B[0;32m     36\u001B[0m )\n",
      "File \u001B[1;32m~\\AppData\\Local\\Programs\\Python\\Python312\\Lib\\site-packages\\nltk\\metrics\\association.py:26\u001B[0m\n\u001B[0;32m     23\u001B[0m _SMALL \u001B[38;5;241m=\u001B[39m \u001B[38;5;241m1e-20\u001B[39m\n\u001B[0;32m     25\u001B[0m \u001B[38;5;28;01mtry\u001B[39;00m:\n\u001B[1;32m---> 26\u001B[0m     \u001B[38;5;28;01mfrom\u001B[39;00m \u001B[38;5;21;01mscipy\u001B[39;00m\u001B[38;5;21;01m.\u001B[39;00m\u001B[38;5;21;01mstats\u001B[39;00m \u001B[38;5;28;01mimport\u001B[39;00m fisher_exact\n\u001B[0;32m     27\u001B[0m \u001B[38;5;28;01mexcept\u001B[39;00m \u001B[38;5;167;01mImportError\u001B[39;00m:\n\u001B[0;32m     29\u001B[0m     \u001B[38;5;28;01mdef\u001B[39;00m \u001B[38;5;21mfisher_exact\u001B[39m(\u001B[38;5;241m*\u001B[39m_args, \u001B[38;5;241m*\u001B[39m\u001B[38;5;241m*\u001B[39m_kwargs):\n",
      "File \u001B[1;32m~\\AppData\\Local\\Programs\\Python\\Python312\\Lib\\site-packages\\scipy\\stats\\__init__.py:624\u001B[0m\n\u001B[0;32m      1\u001B[0m \u001B[38;5;124;03m\"\"\"\u001B[39;00m\n\u001B[0;32m      2\u001B[0m \u001B[38;5;124;03m.. _statsrefmanual:\u001B[39;00m\n\u001B[0;32m      3\u001B[0m \n\u001B[1;32m   (...)\u001B[0m\n\u001B[0;32m    619\u001B[0m \n\u001B[0;32m    620\u001B[0m \u001B[38;5;124;03m\"\"\"\u001B[39;00m  \u001B[38;5;66;03m# noqa: E501\u001B[39;00m\n\u001B[0;32m    622\u001B[0m \u001B[38;5;28;01mfrom\u001B[39;00m \u001B[38;5;21;01m.\u001B[39;00m\u001B[38;5;21;01m_warnings_errors\u001B[39;00m \u001B[38;5;28;01mimport\u001B[39;00m (ConstantInputWarning, NearConstantInputWarning,\n\u001B[0;32m    623\u001B[0m                                DegenerateDataWarning, FitError)\n\u001B[1;32m--> 624\u001B[0m \u001B[38;5;28;01mfrom\u001B[39;00m \u001B[38;5;21;01m.\u001B[39;00m\u001B[38;5;21;01m_stats_py\u001B[39;00m \u001B[38;5;28;01mimport\u001B[39;00m \u001B[38;5;241m*\u001B[39m\n\u001B[0;32m    625\u001B[0m \u001B[38;5;28;01mfrom\u001B[39;00m \u001B[38;5;21;01m.\u001B[39;00m\u001B[38;5;21;01m_variation\u001B[39;00m \u001B[38;5;28;01mimport\u001B[39;00m variation\n\u001B[0;32m    626\u001B[0m \u001B[38;5;28;01mfrom\u001B[39;00m \u001B[38;5;21;01m.\u001B[39;00m\u001B[38;5;21;01mdistributions\u001B[39;00m \u001B[38;5;28;01mimport\u001B[39;00m \u001B[38;5;241m*\u001B[39m\n",
      "File \u001B[1;32m~\\AppData\\Local\\Programs\\Python\\Python312\\Lib\\site-packages\\scipy\\stats\\_stats_py.py:38\u001B[0m\n\u001B[0;32m     35\u001B[0m \u001B[38;5;28;01mimport\u001B[39;00m \u001B[38;5;21;01mnumpy\u001B[39;00m \u001B[38;5;28;01mas\u001B[39;00m \u001B[38;5;21;01mnp\u001B[39;00m\n\u001B[0;32m     36\u001B[0m \u001B[38;5;28;01mfrom\u001B[39;00m \u001B[38;5;21;01mnumpy\u001B[39;00m \u001B[38;5;28;01mimport\u001B[39;00m array, asarray, ma\n\u001B[1;32m---> 38\u001B[0m \u001B[38;5;28;01mfrom\u001B[39;00m \u001B[38;5;21;01mscipy\u001B[39;00m \u001B[38;5;28;01mimport\u001B[39;00m sparse\n\u001B[0;32m     39\u001B[0m \u001B[38;5;28;01mfrom\u001B[39;00m \u001B[38;5;21;01mscipy\u001B[39;00m\u001B[38;5;21;01m.\u001B[39;00m\u001B[38;5;21;01mspatial\u001B[39;00m \u001B[38;5;28;01mimport\u001B[39;00m distance_matrix\n\u001B[0;32m     41\u001B[0m \u001B[38;5;28;01mfrom\u001B[39;00m \u001B[38;5;21;01mscipy\u001B[39;00m\u001B[38;5;21;01m.\u001B[39;00m\u001B[38;5;21;01moptimize\u001B[39;00m \u001B[38;5;28;01mimport\u001B[39;00m milp, LinearConstraint\n",
      "File \u001B[1;32m<frozen importlib._bootstrap>:1412\u001B[0m, in \u001B[0;36m_handle_fromlist\u001B[1;34m(module, fromlist, import_, recursive)\u001B[0m\n",
      "File \u001B[1;32m~\\AppData\\Local\\Programs\\Python\\Python312\\Lib\\site-packages\\scipy\\__init__.py:146\u001B[0m, in \u001B[0;36m__getattr__\u001B[1;34m(name)\u001B[0m\n\u001B[0;32m    144\u001B[0m \u001B[38;5;28;01mdef\u001B[39;00m \u001B[38;5;21m__getattr__\u001B[39m(name):\n\u001B[0;32m    145\u001B[0m     \u001B[38;5;28;01mif\u001B[39;00m name \u001B[38;5;129;01min\u001B[39;00m submodules:\n\u001B[1;32m--> 146\u001B[0m         \u001B[38;5;28;01mreturn\u001B[39;00m \u001B[43m_importlib\u001B[49m\u001B[38;5;241;43m.\u001B[39;49m\u001B[43mimport_module\u001B[49m\u001B[43m(\u001B[49m\u001B[38;5;124;43mf\u001B[39;49m\u001B[38;5;124;43m'\u001B[39;49m\u001B[38;5;124;43mscipy.\u001B[39;49m\u001B[38;5;132;43;01m{\u001B[39;49;00m\u001B[43mname\u001B[49m\u001B[38;5;132;43;01m}\u001B[39;49;00m\u001B[38;5;124;43m'\u001B[39;49m\u001B[43m)\u001B[49m\n\u001B[0;32m    147\u001B[0m     \u001B[38;5;28;01melse\u001B[39;00m:\n\u001B[0;32m    148\u001B[0m         \u001B[38;5;28;01mtry\u001B[39;00m:\n",
      "File \u001B[1;32m~\\AppData\\Local\\Programs\\Python\\Python312\\Lib\\importlib\\__init__.py:90\u001B[0m, in \u001B[0;36mimport_module\u001B[1;34m(name, package)\u001B[0m\n\u001B[0;32m     88\u001B[0m             \u001B[38;5;28;01mbreak\u001B[39;00m\n\u001B[0;32m     89\u001B[0m         level \u001B[38;5;241m+\u001B[39m\u001B[38;5;241m=\u001B[39m \u001B[38;5;241m1\u001B[39m\n\u001B[1;32m---> 90\u001B[0m \u001B[38;5;28;01mreturn\u001B[39;00m \u001B[43m_bootstrap\u001B[49m\u001B[38;5;241;43m.\u001B[39;49m\u001B[43m_gcd_import\u001B[49m\u001B[43m(\u001B[49m\u001B[43mname\u001B[49m\u001B[43m[\u001B[49m\u001B[43mlevel\u001B[49m\u001B[43m:\u001B[49m\u001B[43m]\u001B[49m\u001B[43m,\u001B[49m\u001B[43m \u001B[49m\u001B[43mpackage\u001B[49m\u001B[43m,\u001B[49m\u001B[43m \u001B[49m\u001B[43mlevel\u001B[49m\u001B[43m)\u001B[49m\n",
      "File \u001B[1;32m~\\AppData\\Local\\Programs\\Python\\Python312\\Lib\\site-packages\\scipy\\sparse\\__init__.py:300\u001B[0m\n\u001B[0;32m    294\u001B[0m \u001B[38;5;66;03m# Original code by Travis Oliphant.\u001B[39;00m\n\u001B[0;32m    295\u001B[0m \u001B[38;5;66;03m# Modified and extended by Ed Schofield, Robert Cimrman,\u001B[39;00m\n\u001B[0;32m    296\u001B[0m \u001B[38;5;66;03m# Nathan Bell, and Jake Vanderplas.\u001B[39;00m\n\u001B[0;32m    298\u001B[0m \u001B[38;5;28;01mimport\u001B[39;00m \u001B[38;5;21;01mwarnings\u001B[39;00m \u001B[38;5;28;01mas\u001B[39;00m \u001B[38;5;21;01m_warnings\u001B[39;00m\n\u001B[1;32m--> 300\u001B[0m \u001B[38;5;28;01mfrom\u001B[39;00m \u001B[38;5;21;01m.\u001B[39;00m\u001B[38;5;21;01m_base\u001B[39;00m \u001B[38;5;28;01mimport\u001B[39;00m \u001B[38;5;241m*\u001B[39m\n\u001B[0;32m    301\u001B[0m \u001B[38;5;28;01mfrom\u001B[39;00m \u001B[38;5;21;01m.\u001B[39;00m\u001B[38;5;21;01m_csr\u001B[39;00m \u001B[38;5;28;01mimport\u001B[39;00m \u001B[38;5;241m*\u001B[39m\n\u001B[0;32m    302\u001B[0m \u001B[38;5;28;01mfrom\u001B[39;00m \u001B[38;5;21;01m.\u001B[39;00m\u001B[38;5;21;01m_csc\u001B[39;00m \u001B[38;5;28;01mimport\u001B[39;00m \u001B[38;5;241m*\u001B[39m\n",
      "File \u001B[1;32m~\\AppData\\Local\\Programs\\Python\\Python312\\Lib\\site-packages\\scipy\\sparse\\_base.py:5\u001B[0m\n\u001B[0;32m      1\u001B[0m \u001B[38;5;124;03m\"\"\"Base class for sparse matrices\"\"\"\u001B[39;00m\n\u001B[0;32m      3\u001B[0m \u001B[38;5;28;01mimport\u001B[39;00m \u001B[38;5;21;01mnumpy\u001B[39;00m \u001B[38;5;28;01mas\u001B[39;00m \u001B[38;5;21;01mnp\u001B[39;00m\n\u001B[1;32m----> 5\u001B[0m \u001B[38;5;28;01mfrom\u001B[39;00m \u001B[38;5;21;01m.\u001B[39;00m\u001B[38;5;21;01m_sputils\u001B[39;00m \u001B[38;5;28;01mimport\u001B[39;00m (asmatrix, check_reshape_kwargs, check_shape,\n\u001B[0;32m      6\u001B[0m                        get_sum_dtype, isdense, isscalarlike,\n\u001B[0;32m      7\u001B[0m                        matrix, validateaxis, getdtype)\n\u001B[0;32m      9\u001B[0m \u001B[38;5;28;01mfrom\u001B[39;00m \u001B[38;5;21;01m.\u001B[39;00m\u001B[38;5;21;01m_matrix\u001B[39;00m \u001B[38;5;28;01mimport\u001B[39;00m spmatrix\n\u001B[0;32m     11\u001B[0m __all__ \u001B[38;5;241m=\u001B[39m [\u001B[38;5;124m'\u001B[39m\u001B[38;5;124misspmatrix\u001B[39m\u001B[38;5;124m'\u001B[39m, \u001B[38;5;124m'\u001B[39m\u001B[38;5;124missparse\u001B[39m\u001B[38;5;124m'\u001B[39m, \u001B[38;5;124m'\u001B[39m\u001B[38;5;124msparray\u001B[39m\u001B[38;5;124m'\u001B[39m,\n\u001B[0;32m     12\u001B[0m            \u001B[38;5;124m'\u001B[39m\u001B[38;5;124mSparseWarning\u001B[39m\u001B[38;5;124m'\u001B[39m, \u001B[38;5;124m'\u001B[39m\u001B[38;5;124mSparseEfficiencyWarning\u001B[39m\u001B[38;5;124m'\u001B[39m]\n",
      "File \u001B[1;32m~\\AppData\\Local\\Programs\\Python\\Python312\\Lib\\site-packages\\scipy\\sparse\\_sputils.py:10\u001B[0m\n\u001B[0;32m      8\u001B[0m \u001B[38;5;28;01mfrom\u001B[39;00m \u001B[38;5;21;01mmath\u001B[39;00m \u001B[38;5;28;01mimport\u001B[39;00m prod\n\u001B[0;32m      9\u001B[0m \u001B[38;5;28;01mimport\u001B[39;00m \u001B[38;5;21;01mscipy\u001B[39;00m\u001B[38;5;21;01m.\u001B[39;00m\u001B[38;5;21;01msparse\u001B[39;00m \u001B[38;5;28;01mas\u001B[39;00m \u001B[38;5;21;01msp\u001B[39;00m\n\u001B[1;32m---> 10\u001B[0m \u001B[38;5;28;01mfrom\u001B[39;00m \u001B[38;5;21;01mscipy\u001B[39;00m\u001B[38;5;21;01m.\u001B[39;00m\u001B[38;5;21;01m_lib\u001B[39;00m\u001B[38;5;21;01m.\u001B[39;00m\u001B[38;5;21;01m_util\u001B[39;00m \u001B[38;5;28;01mimport\u001B[39;00m np_long, np_ulong\n\u001B[0;32m     13\u001B[0m __all__ \u001B[38;5;241m=\u001B[39m [\u001B[38;5;124m'\u001B[39m\u001B[38;5;124mupcast\u001B[39m\u001B[38;5;124m'\u001B[39m, \u001B[38;5;124m'\u001B[39m\u001B[38;5;124mgetdtype\u001B[39m\u001B[38;5;124m'\u001B[39m, \u001B[38;5;124m'\u001B[39m\u001B[38;5;124mgetdata\u001B[39m\u001B[38;5;124m'\u001B[39m, \u001B[38;5;124m'\u001B[39m\u001B[38;5;124misscalarlike\u001B[39m\u001B[38;5;124m'\u001B[39m, \u001B[38;5;124m'\u001B[39m\u001B[38;5;124misintlike\u001B[39m\u001B[38;5;124m'\u001B[39m,\n\u001B[0;32m     14\u001B[0m            \u001B[38;5;124m'\u001B[39m\u001B[38;5;124misshape\u001B[39m\u001B[38;5;124m'\u001B[39m, \u001B[38;5;124m'\u001B[39m\u001B[38;5;124missequence\u001B[39m\u001B[38;5;124m'\u001B[39m, \u001B[38;5;124m'\u001B[39m\u001B[38;5;124misdense\u001B[39m\u001B[38;5;124m'\u001B[39m, \u001B[38;5;124m'\u001B[39m\u001B[38;5;124mismatrix\u001B[39m\u001B[38;5;124m'\u001B[39m, \u001B[38;5;124m'\u001B[39m\u001B[38;5;124mget_sum_dtype\u001B[39m\u001B[38;5;124m'\u001B[39m,\n\u001B[0;32m     15\u001B[0m            \u001B[38;5;124m'\u001B[39m\u001B[38;5;124mbroadcast_shapes\u001B[39m\u001B[38;5;124m'\u001B[39m]\n\u001B[0;32m     17\u001B[0m supported_dtypes \u001B[38;5;241m=\u001B[39m [np\u001B[38;5;241m.\u001B[39mbool_, np\u001B[38;5;241m.\u001B[39mbyte, np\u001B[38;5;241m.\u001B[39mubyte, np\u001B[38;5;241m.\u001B[39mshort, np\u001B[38;5;241m.\u001B[39mushort, np\u001B[38;5;241m.\u001B[39mintc,\n\u001B[0;32m     18\u001B[0m                     np\u001B[38;5;241m.\u001B[39muintc, np_long, np_ulong, np\u001B[38;5;241m.\u001B[39mlonglong, np\u001B[38;5;241m.\u001B[39mulonglong,\n\u001B[0;32m     19\u001B[0m                     np\u001B[38;5;241m.\u001B[39mfloat32, np\u001B[38;5;241m.\u001B[39mfloat64, np\u001B[38;5;241m.\u001B[39mlongdouble,\n\u001B[0;32m     20\u001B[0m                     np\u001B[38;5;241m.\u001B[39mcomplex64, np\u001B[38;5;241m.\u001B[39mcomplex128, np\u001B[38;5;241m.\u001B[39mclongdouble]\n",
      "File \u001B[1;32m~\\AppData\\Local\\Programs\\Python\\Python312\\Lib\\site-packages\\scipy\\_lib\\_util.py:13\u001B[0m\n\u001B[0;32m     10\u001B[0m \u001B[38;5;28;01mfrom\u001B[39;00m \u001B[38;5;21;01mtyping\u001B[39;00m \u001B[38;5;28;01mimport\u001B[39;00m TypeAlias, TypeVar\n\u001B[0;32m     12\u001B[0m \u001B[38;5;28;01mimport\u001B[39;00m \u001B[38;5;21;01mnumpy\u001B[39;00m \u001B[38;5;28;01mas\u001B[39;00m \u001B[38;5;21;01mnp\u001B[39;00m\n\u001B[1;32m---> 13\u001B[0m \u001B[38;5;28;01mfrom\u001B[39;00m \u001B[38;5;21;01mscipy\u001B[39;00m\u001B[38;5;21;01m.\u001B[39;00m\u001B[38;5;21;01m_lib\u001B[39;00m\u001B[38;5;21;01m.\u001B[39;00m\u001B[38;5;21;01m_array_api\u001B[39;00m \u001B[38;5;28;01mimport\u001B[39;00m array_namespace, is_numpy, xp_size\n\u001B[0;32m     14\u001B[0m \u001B[38;5;28;01mfrom\u001B[39;00m \u001B[38;5;21;01mscipy\u001B[39;00m\u001B[38;5;21;01m.\u001B[39;00m\u001B[38;5;21;01m_lib\u001B[39;00m\u001B[38;5;21;01m.\u001B[39;00m\u001B[38;5;21;01m_docscrape\u001B[39;00m \u001B[38;5;28;01mimport\u001B[39;00m FunctionDoc, Parameter\n\u001B[0;32m     17\u001B[0m AxisError: \u001B[38;5;28mtype\u001B[39m[\u001B[38;5;167;01mException\u001B[39;00m]\n",
      "File \u001B[1;32m~\\AppData\\Local\\Programs\\Python\\Python312\\Lib\\site-packages\\scipy\\_lib\\_array_api.py:18\u001B[0m\n\u001B[0;32m     15\u001B[0m \u001B[38;5;28;01mimport\u001B[39;00m \u001B[38;5;21;01mnumpy\u001B[39;00m\u001B[38;5;21;01m.\u001B[39;00m\u001B[38;5;21;01mtyping\u001B[39;00m \u001B[38;5;28;01mas\u001B[39;00m \u001B[38;5;21;01mnpt\u001B[39;00m\n\u001B[0;32m     17\u001B[0m \u001B[38;5;28;01mfrom\u001B[39;00m \u001B[38;5;21;01mscipy\u001B[39;00m\u001B[38;5;21;01m.\u001B[39;00m\u001B[38;5;21;01m_lib\u001B[39;00m \u001B[38;5;28;01mimport\u001B[39;00m array_api_compat\n\u001B[1;32m---> 18\u001B[0m \u001B[38;5;28;01mfrom\u001B[39;00m \u001B[38;5;21;01mscipy\u001B[39;00m\u001B[38;5;21;01m.\u001B[39;00m\u001B[38;5;21;01m_lib\u001B[39;00m\u001B[38;5;21;01m.\u001B[39;00m\u001B[38;5;21;01marray_api_compat\u001B[39;00m \u001B[38;5;28;01mimport\u001B[39;00m (\n\u001B[0;32m     19\u001B[0m     is_array_api_obj,\n\u001B[0;32m     20\u001B[0m     size \u001B[38;5;28;01mas\u001B[39;00m xp_size,\n\u001B[0;32m     21\u001B[0m     numpy \u001B[38;5;28;01mas\u001B[39;00m np_compat,\n\u001B[0;32m     22\u001B[0m     device \u001B[38;5;28;01mas\u001B[39;00m xp_device,\n\u001B[0;32m     23\u001B[0m     is_numpy_namespace \u001B[38;5;28;01mas\u001B[39;00m is_numpy,\n\u001B[0;32m     24\u001B[0m     is_cupy_namespace \u001B[38;5;28;01mas\u001B[39;00m is_cupy,\n\u001B[0;32m     25\u001B[0m     is_torch_namespace \u001B[38;5;28;01mas\u001B[39;00m is_torch,\n\u001B[0;32m     26\u001B[0m     is_jax_namespace \u001B[38;5;28;01mas\u001B[39;00m is_jax,\n\u001B[0;32m     27\u001B[0m     is_array_api_strict_namespace \u001B[38;5;28;01mas\u001B[39;00m is_array_api_strict\n\u001B[0;32m     28\u001B[0m )\n\u001B[0;32m     30\u001B[0m __all__ \u001B[38;5;241m=\u001B[39m [\n\u001B[0;32m     31\u001B[0m     \u001B[38;5;124m'\u001B[39m\u001B[38;5;124m_asarray\u001B[39m\u001B[38;5;124m'\u001B[39m, \u001B[38;5;124m'\u001B[39m\u001B[38;5;124marray_namespace\u001B[39m\u001B[38;5;124m'\u001B[39m, \u001B[38;5;124m'\u001B[39m\u001B[38;5;124massert_almost_equal\u001B[39m\u001B[38;5;124m'\u001B[39m, \u001B[38;5;124m'\u001B[39m\u001B[38;5;124massert_array_almost_equal\u001B[39m\u001B[38;5;124m'\u001B[39m,\n\u001B[0;32m     32\u001B[0m     \u001B[38;5;124m'\u001B[39m\u001B[38;5;124mget_xp_devices\u001B[39m\u001B[38;5;124m'\u001B[39m,\n\u001B[1;32m   (...)\u001B[0m\n\u001B[0;32m     38\u001B[0m     \u001B[38;5;124m'\u001B[39m\u001B[38;5;124mxp_take_along_axis\u001B[39m\u001B[38;5;124m'\u001B[39m, \u001B[38;5;124m'\u001B[39m\u001B[38;5;124mxp_unsupported_param_msg\u001B[39m\u001B[38;5;124m'\u001B[39m, \u001B[38;5;124m'\u001B[39m\u001B[38;5;124mxp_vector_norm\u001B[39m\u001B[38;5;124m'\u001B[39m,\n\u001B[0;32m     39\u001B[0m ]\n\u001B[0;32m     42\u001B[0m \u001B[38;5;66;03m# To enable array API and strict array-like input validation\u001B[39;00m\n",
      "File \u001B[1;32m~\\AppData\\Local\\Programs\\Python\\Python312\\Lib\\site-packages\\scipy\\_lib\\array_api_compat\\numpy\\__init__.py:1\u001B[0m\n\u001B[1;32m----> 1\u001B[0m \u001B[38;5;28;01mfrom\u001B[39;00m \u001B[38;5;21;01mnumpy\u001B[39;00m \u001B[38;5;28;01mimport\u001B[39;00m \u001B[38;5;241m*\u001B[39m \u001B[38;5;66;03m# noqa: F403\u001B[39;00m\n\u001B[0;32m      3\u001B[0m \u001B[38;5;66;03m# from numpy import * doesn't overwrite these builtin names\u001B[39;00m\n\u001B[0;32m      4\u001B[0m \u001B[38;5;28;01mfrom\u001B[39;00m \u001B[38;5;21;01mnumpy\u001B[39;00m \u001B[38;5;28;01mimport\u001B[39;00m \u001B[38;5;28mabs\u001B[39m, \u001B[38;5;28mmax\u001B[39m, \u001B[38;5;28mmin\u001B[39m, \u001B[38;5;28mround\u001B[39m \u001B[38;5;66;03m# noqa: F401\u001B[39;00m\n",
      "File \u001B[1;32m<frozen importlib._bootstrap>:1410\u001B[0m, in \u001B[0;36m_handle_fromlist\u001B[1;34m(module, fromlist, import_, recursive)\u001B[0m\n",
      "File \u001B[1;32m<frozen importlib._bootstrap>:1412\u001B[0m, in \u001B[0;36m_handle_fromlist\u001B[1;34m(module, fromlist, import_, recursive)\u001B[0m\n",
      "File \u001B[1;32m~\\AppData\\Local\\Programs\\Python\\Python312\\Lib\\site-packages\\numpy\\__init__.py:365\u001B[0m, in \u001B[0;36m__getattr__\u001B[1;34m(attr)\u001B[0m\n\u001B[0;32m    363\u001B[0m     \u001B[38;5;28;01mreturn\u001B[39;00m ctypeslib\n\u001B[0;32m    364\u001B[0m \u001B[38;5;28;01melif\u001B[39;00m attr \u001B[38;5;241m==\u001B[39m \u001B[38;5;124m\"\u001B[39m\u001B[38;5;124mexceptions\u001B[39m\u001B[38;5;124m\"\u001B[39m:\n\u001B[1;32m--> 365\u001B[0m     \u001B[38;5;28;01mimport\u001B[39;00m \u001B[38;5;21;01mnumpy\u001B[39;00m\u001B[38;5;21;01m.\u001B[39;00m\u001B[38;5;21;01mexceptions\u001B[39;00m \u001B[38;5;28;01mas\u001B[39;00m \u001B[38;5;21;01mexceptions\u001B[39;00m\n\u001B[0;32m    366\u001B[0m     \u001B[38;5;28;01mreturn\u001B[39;00m exceptions\n\u001B[0;32m    367\u001B[0m \u001B[38;5;28;01melif\u001B[39;00m attr \u001B[38;5;241m==\u001B[39m \u001B[38;5;124m\"\u001B[39m\u001B[38;5;124mtesting\u001B[39m\u001B[38;5;124m\"\u001B[39m:\n",
      "File \u001B[1;32m~\\AppData\\Local\\Programs\\Python\\Python312\\Lib\\site-packages\\numpy\\__init__.py:365\u001B[0m, in \u001B[0;36m__getattr__\u001B[1;34m(attr)\u001B[0m\n\u001B[0;32m    363\u001B[0m     \u001B[38;5;28;01mreturn\u001B[39;00m ctypeslib\n\u001B[0;32m    364\u001B[0m \u001B[38;5;28;01melif\u001B[39;00m attr \u001B[38;5;241m==\u001B[39m \u001B[38;5;124m\"\u001B[39m\u001B[38;5;124mexceptions\u001B[39m\u001B[38;5;124m\"\u001B[39m:\n\u001B[1;32m--> 365\u001B[0m     \u001B[38;5;28;01mimport\u001B[39;00m \u001B[38;5;21;01mnumpy\u001B[39;00m\u001B[38;5;21;01m.\u001B[39;00m\u001B[38;5;21;01mexceptions\u001B[39;00m \u001B[38;5;28;01mas\u001B[39;00m \u001B[38;5;21;01mexceptions\u001B[39;00m\n\u001B[0;32m    366\u001B[0m     \u001B[38;5;28;01mreturn\u001B[39;00m exceptions\n\u001B[0;32m    367\u001B[0m \u001B[38;5;28;01melif\u001B[39;00m attr \u001B[38;5;241m==\u001B[39m \u001B[38;5;124m\"\u001B[39m\u001B[38;5;124mtesting\u001B[39m\u001B[38;5;124m\"\u001B[39m:\n",
      "    \u001B[1;31m[... skipping similar frames: __getattr__ at line 365 (1455 times)]\u001B[0m\n",
      "File \u001B[1;32m~\\AppData\\Local\\Programs\\Python\\Python312\\Lib\\site-packages\\numpy\\__init__.py:365\u001B[0m, in \u001B[0;36m__getattr__\u001B[1;34m(attr)\u001B[0m\n\u001B[0;32m    363\u001B[0m     \u001B[38;5;28;01mreturn\u001B[39;00m ctypeslib\n\u001B[0;32m    364\u001B[0m \u001B[38;5;28;01melif\u001B[39;00m attr \u001B[38;5;241m==\u001B[39m \u001B[38;5;124m\"\u001B[39m\u001B[38;5;124mexceptions\u001B[39m\u001B[38;5;124m\"\u001B[39m:\n\u001B[1;32m--> 365\u001B[0m     \u001B[38;5;28;01mimport\u001B[39;00m \u001B[38;5;21;01mnumpy\u001B[39;00m\u001B[38;5;21;01m.\u001B[39;00m\u001B[38;5;21;01mexceptions\u001B[39;00m \u001B[38;5;28;01mas\u001B[39;00m \u001B[38;5;21;01mexceptions\u001B[39;00m\n\u001B[0;32m    366\u001B[0m     \u001B[38;5;28;01mreturn\u001B[39;00m exceptions\n\u001B[0;32m    367\u001B[0m \u001B[38;5;28;01melif\u001B[39;00m attr \u001B[38;5;241m==\u001B[39m \u001B[38;5;124m\"\u001B[39m\u001B[38;5;124mtesting\u001B[39m\u001B[38;5;124m\"\u001B[39m:\n",
      "\u001B[1;31mRecursionError\u001B[0m: maximum recursion depth exceeded"
     ]
    }
   ],
   "execution_count": 8
  },
  {
   "metadata": {},
   "cell_type": "markdown",
   "source": [
    "<h3>B</h3>\n",
    "numarul de cuvinte din text\n"
   ],
   "id": "b28365524f674748"
  },
  {
   "metadata": {
    "ExecuteTime": {
     "end_time": "2025-03-12T13:51:53.358963Z",
     "start_time": "2025-03-12T13:51:53.352915Z"
    }
   },
   "cell_type": "code",
   "source": [
    "import string\n",
    "\n",
    "cuvinte = word_tokenize(text)\n",
    "tokensWithoutPunctuation = [word for word in cuvinte if word.isalnum() and not word.isdigit()]\n",
    "print(\"Numarul de cuvinte din text:\", len(tokensWithoutPunctuation), \"\\n\")"
   ],
   "id": "30270acbe101dedb",
   "outputs": [
    {
     "name": "stdout",
     "output_type": "stream",
     "text": [
      "Numarul de cuvinte din text: 159 \n",
      "\n"
     ]
    }
   ],
   "execution_count": 20
  },
  {
   "metadata": {},
   "cell_type": "markdown",
   "source": [
    "<h3>C</h3>\n",
    "numarul de cuvinte diferite din text\n"
   ],
   "id": "659a5cb7f1be46e5"
  },
  {
   "metadata": {
    "ExecuteTime": {
     "end_time": "2025-03-12T13:51:54.768161Z",
     "start_time": "2025-03-12T13:51:54.762985Z"
    }
   },
   "cell_type": "code",
   "source": [
    "tokensWithoutPunctuationDistinct = set(tokensWithoutPunctuation)\n",
    "print(\"Numarul de cuvinte distincte din text:\", len(tokensWithoutPunctuationDistinct), \"\\n\")"
   ],
   "id": "6d82e1d1028460ad",
   "outputs": [
    {
     "name": "stdout",
     "output_type": "stream",
     "text": [
      "Numarul de cuvinte distincte din text: 96 \n",
      "\n"
     ]
    }
   ],
   "execution_count": 21
  },
  {
   "metadata": {},
   "cell_type": "markdown",
   "source": [
    "<h3>D</h3>\n",
    "cel mai scurt si cel mai lung cuvant (cuvinte)\n"
   ],
   "id": "3dbd5309f839ea89"
  },
  {
   "metadata": {
    "ExecuteTime": {
     "end_time": "2025-03-12T13:51:56.244841Z",
     "start_time": "2025-03-12T13:51:56.239932Z"
    }
   },
   "cell_type": "code",
   "source": [
    "shortest_word = min(cuvinte, key=len)\n",
    "longest_word = max(cuvinte, key=len)\n",
    "print(\"Cel mai scurt cuvant:\", shortest_word)\n",
    "print(\"Cel mai lung cuvant:\", longest_word, \"\\n\")"
   ],
   "id": "b472c3a82d47fb6c",
   "outputs": [
    {
     "name": "stdout",
     "output_type": "stream",
     "text": [
      "Cel mai scurt cuvant: :\n",
      "Cel mai lung cuvant: Confiiiiiiiiiiiiiiiiiiiiiiiiiiiirm \n",
      "\n"
     ]
    }
   ],
   "execution_count": 22
  },
  {
   "metadata": {},
   "cell_type": "markdown",
   "source": [
    "<h3>E</h3>\n",
    "textul fara diacritice\n"
   ],
   "id": "8d16602c7883016d"
  },
  {
   "metadata": {
    "ExecuteTime": {
     "end_time": "2025-03-12T13:51:58.122370Z",
     "start_time": "2025-03-12T13:51:58.111913Z"
    }
   },
   "cell_type": "code",
   "source": [
    "def remove_diacritics(textt):\n",
    "    mapping = {\n",
    "        'ă': 'a', 'â': 'a', 'î': 'i', 'ș': 's', 'ț': 't',\n",
    "        'Ă': 'A', 'Â': 'A', 'Î': 'I', 'Ș': 'S', 'Ț': 'T'\n",
    "    }\n",
    "    textt = textt.translate(str.maketrans(mapping))\n",
    "    return textt\n",
    "\n",
    "text_without_diacritics = remove_diacritics(text)\n",
    "\n",
    "print(text_without_diacritics)\n"
   ],
   "id": "7ac20494e9e1a29a",
   "outputs": [
    {
     "name": "stdout",
     "output_type": "stream",
     "text": [
      "Mesaj de informare: \n",
      "Cursul si laboratoarele de Inteligenta Artificiala vor fi o \n",
      "provocare pentru toti. Suntem convinsi ca veti realiza proiecte \n",
      "foarte interesante. Va incurajam sa adresati intrebari atunci \n",
      "cand ceva nu e clar, atat in mod live, cat si folosind platforma \n",
      "Teams, canalul ”general”. \n",
      "Daca ati citit pana aici, va rugam sa lasati un mesaj pe canalul \n",
      "general cu textul ”Confiiiiiiiiiiiiiiiiiiiiiiiiiiiirm ca am citit \n",
      "textul pentru problema 3 din lab2”. \n",
      "--\n",
      "Mesaj de informare generat de ChatGPT:\n",
      "Stimati cursanti,\n",
      "Suntem incantati sa va avem in echipa noastra pentru Cursul si \n",
      "laboratoarele de Inteligenta Artificiala. Aceasta experienta va \n",
      "fi o adevarata provocare, dar suntem convinsi ca veti realiza \n",
      "proiecte extrem de interesante.\n",
      "Va incurajam sa fiti activi si sa adresati intrebari atunci cand \n",
      "ceva nu este clar. Fie ca este vorba de o discutie in timp real \n",
      "sau prin intermediul platformei Teams, canalul ”general”, suntem \n",
      "aici sa va sprijinim.\n",
      "Succes si sa inceapa aventura AI!\n",
      "Cu consideratie, Echipa de Inteligenta Artificiala\n"
     ]
    }
   ],
   "execution_count": 23
  },
  {
   "metadata": {},
   "cell_type": "markdown",
   "source": [
    "<h3>F</h3>\n",
    "sinonimele celui mai lung cuvant din text\n"
   ],
   "id": "3a655f195177f8e3"
  },
  {
   "metadata": {
    "ExecuteTime": {
     "end_time": "2025-03-12T14:18:31.356946Z",
     "start_time": "2025-03-12T14:18:27.998973Z"
    }
   },
   "cell_type": "code",
   "source": [
    "import spacy\n",
    "import rowordnet\n",
    "from rowordnet import RoWordNet\n",
    "\n",
    "\n",
    "nlp = spacy.load(\"ro_core_news_sm\")\n",
    "doc = nlp(\"laboratoarele\")\n",
    "singularForm = \"\"\n",
    "for token in doc:\n",
    "    singularForm += token.lemma_ + \" \"\n",
    "word = singularForm.strip()\n",
    "rown = RoWordNet()\n",
    "synsetIds = rown.synsets(literal=word)\n",
    "for synsetId in synsetIds:\n",
    "    synset = rown.synset(synsetId)\n",
    "    synonyms = [literal for literal in synset.literals]\n",
    "    print(synonyms)"
   ],
   "id": "9e9af59b821b8d6d",
   "outputs": [
    {
     "name": "stdout",
     "output_type": "stream",
     "text": [
      "['laborator', 'poligon_de_încercare']\n",
      "['laborator', 'laborator_de_cercetare', 'laborator_de_științe']\n",
      "['laborator', 'laborator_de_cercetare', 'laborator_de_științe']\n",
      "['laborator', 'laborator_de_cercetare', 'laborator_de_științe']\n",
      "['pahar_de_laborator']\n",
      "['laborator_de_fizică']\n",
      "['laborator_de_biologie']\n",
      "['laborator_de_chimie']\n",
      "['masă_de_laborator']\n"
     ]
    }
   ],
   "execution_count": 29
  }
 ],
 "metadata": {
  "kernelspec": {
   "display_name": "Python 3",
   "language": "python",
   "name": "python3"
  },
  "language_info": {
   "codemirror_mode": {
    "name": "ipython",
    "version": 2
   },
   "file_extension": ".py",
   "mimetype": "text/x-python",
   "name": "python",
   "nbconvert_exporter": "python",
   "pygments_lexer": "ipython2",
   "version": "2.7.6"
  }
 },
 "nbformat": 4,
 "nbformat_minor": 5
}
