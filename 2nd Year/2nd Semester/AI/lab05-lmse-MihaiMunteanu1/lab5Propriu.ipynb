{
 "cells": [
  {
   "metadata": {
    "ExecuteTime": {
     "end_time": "2025-04-09T11:03:36.486948Z",
     "start_time": "2025-04-09T11:03:36.481202Z"
    }
   },
   "cell_type": "code",
   "source": [
    "import csv\n",
    "import os"
   ],
   "id": "acdca8f59bf8a694",
   "outputs": [],
   "execution_count": 11
  },
  {
   "metadata": {
    "ExecuteTime": {
     "end_time": "2025-04-09T11:02:50.116580Z",
     "start_time": "2025-04-09T11:02:50.103877Z"
    }
   },
   "cell_type": "code",
   "source": [
    "def loadData(fileName, inputVariabName, outputVariabName):\n",
    "    data = []\n",
    "    dataNames = []\n",
    "    with open(fileName) as csv_file:\n",
    "        csv_reader = csv.reader(csv_file, delimiter=',')\n",
    "        line_count = 0\n",
    "        for row in csv_reader:\n",
    "            if line_count == 0:\n",
    "                dataNames = row\n",
    "            else:\n",
    "                data.append(row)\n",
    "            line_count += 1\n",
    "    selectedVariable = dataNames.index(inputVariabName)\n",
    "    inputs = [float(data[i][selectedVariable]) if data[i][selectedVariable] != '' else None for i in range(len(data))]\n",
    "    selectedOutput = dataNames.index(outputVariabName)\n",
    "    outputs = [float(data[i][selectedOutput]) if data[i][selectedOutput] != '' else None for i in range(len(data))]\n",
    "\n",
    "    inputs, outputs = zip(*[(i, o) for i, o in zip(inputs, outputs) if i is not None and o is not None])\n",
    "\n",
    "    return inputs, outputs\n"
   ],
   "id": "aa41eb1336cfac10",
   "outputs": [],
   "execution_count": 8
  },
  {
   "metadata": {},
   "cell_type": "markdown",
   "source": "<h3>Propriu - family </h3>",
   "id": "d5111e84ce5643ea"
  },
  {
   "metadata": {
    "ExecuteTime": {
     "end_time": "2025-04-09T11:15:42.628220Z",
     "start_time": "2025-04-09T11:15:42.612509Z"
    }
   },
   "cell_type": "code",
   "source": [
    "import random\n",
    "\n",
    "crtDir =  os.getcwd()\n",
    "filePath = os.path.join(crtDir, 'data', 'v3_world-happiness-report-2017.csv')\n",
    "\n",
    "inputs, outputs = loadData(filePath, 'Family', 'Happiness.Score')\n",
    "\n",
    "#impartirea datelor pe train(80%) si validation (20%)\n",
    "\n",
    "random.seed(5)  # Set the seed for reproducibility\n",
    "indexes = [i for i in range(len(inputs))]\n",
    "trainSample = random.sample(indexes, int(0.8 * len(inputs)))\n",
    "validationSample = [i for i in indexes if i not in trainSample]\n",
    "\n",
    "trainInputs = [inputs[i] for i in trainSample]\n",
    "trainOutputs = [outputs[i] for i in trainSample]\n",
    "validationInputs = [inputs[i] for i in validationSample]\n",
    "validationOutputs = [outputs[i] for i in validationSample]\n",
    "\n",
    "\n",
    "#antrenam modelul\n",
    "n = len(trainInputs)\n",
    "sx = sum(trainInputs)\n",
    "sy = sum(trainOutputs)\n",
    "sxy = sum(i * j for i, j in zip(trainInputs, trainOutputs))\n",
    "sxx = sum(i ** 2 for i in trainInputs)\n",
    "\n",
    "w1 = (n * sxy - sx * sy) / (n * sxx - sx ** 2)\n",
    "w0 = (sy - w1 * sx) / n\n",
    "\n",
    "print('the learnt model: f(x) = ', w0, ' + ', w1, ' * x')\n",
    "\n",
    "#makes predictions for test data, calcul metrici de performanta\n",
    "computedValidationOutputs = [w0 + w1 * x for x in validationInputs]\n",
    "\n",
    "error = 0.0\n",
    "for t1, t2 in zip(computedValidationOutputs, validationOutputs):\n",
    "    error += (t1 - t2) ** 2\n",
    "error = error / len(validationOutputs)\n",
    "print(\"prediction error (manual): \", error)\n"
   ],
   "id": "8ec234c9b35afce1",
   "outputs": [
    {
     "name": "stdout",
     "output_type": "stream",
     "text": [
      "the learnt model: f(x) =  1.808267394166918  +  2.9583363045673554  * x\n",
      "prediction error (manual):  0.696960935019105\n"
     ]
    }
   ],
   "execution_count": 32
  },
  {
   "metadata": {},
   "cell_type": "markdown",
   "source": "<h3> Propriu - PIB </h3>\n",
   "id": "a8dfc64416e1981a"
  },
  {
   "metadata": {
    "ExecuteTime": {
     "end_time": "2025-04-09T11:15:44.697861Z",
     "start_time": "2025-04-09T11:15:44.673566Z"
    }
   },
   "cell_type": "code",
   "source": [
    "import random\n",
    "\n",
    "crtDir =  os.getcwd()\n",
    "filePath = os.path.join(crtDir, 'data', 'v3_world-happiness-report-2017.csv')\n",
    "\n",
    "inputs, outputs = loadData(filePath, 'Economy..GDP.per.Capita.', 'Happiness.Score')\n",
    "\n",
    "#impartirea datelor pe train si validation\n",
    "random.seed(5)\n",
    "indexes = [i for i in range(len(inputs))]\n",
    "trainSample = random.sample(indexes, int(0.8 * len(inputs)))\n",
    "validationSample = [i for i in indexes if i not in trainSample]\n",
    "\n",
    "trainInputs = [inputs[i] for i in trainSample]\n",
    "trainOutputs = [outputs[i] for i in trainSample]\n",
    "validationInputs = [inputs[i] for i in validationSample]\n",
    "validationOutputs = [outputs[i] for i in validationSample]\n",
    "\n",
    "#antrenam modelul\n",
    "n = len(trainInputs)\n",
    "sx = sum(trainInputs)\n",
    "sy = sum(trainOutputs)\n",
    "sxy = sum(i * j for i, j in zip(trainInputs, trainOutputs))\n",
    "sxx = sum(i ** 2 for i in trainInputs)\n",
    "\n",
    "w1 = (n * sxy - sx * sy) / (n * sxx - sx ** 2)\n",
    "w0 = (sy - w1 * sx) / n\n",
    "\n",
    "print('the learnt model: f(x) = ', w0, ' + ', w1, ' * x')\n",
    "\n",
    "#makes predictions for test data, calcul metrici de performanta\n",
    "computedValidationOutputs = [w0 + w1 * x for x in validationInputs]\n",
    "\n",
    "error = 0.0\n",
    "for t1, t2 in zip(computedValidationOutputs, validationOutputs):\n",
    "    error += (t1 - t2) ** 2\n",
    "error = error / len(validationOutputs)\n",
    "print(\"prediction error (manual): \", error)\n"
   ],
   "id": "95bf3e565b71607d",
   "outputs": [
    {
     "name": "stdout",
     "output_type": "stream",
     "text": [
      "the learnt model: f(x) =  3.2432322927841613  +  2.1475159197540834  * x\n",
      "prediction error (manual):  0.4661599001167347\n"
     ]
    }
   ],
   "execution_count": 33
  },
  {
   "metadata": {},
   "cell_type": "markdown",
   "source": "<h3> Prorpiu - PIB si Freedom </h3>",
   "id": "3148d61ac90634f2"
  },
  {
   "metadata": {
    "ExecuteTime": {
     "end_time": "2025-04-09T11:15:47.416459Z",
     "start_time": "2025-04-09T11:15:47.403367Z"
    }
   },
   "cell_type": "code",
   "source": [
    "\n",
    "def loadData2(fileName, inputVariabName1, inputVariabName2, outputVariabName):\n",
    "    data = []\n",
    "    dataNames = []\n",
    "    with open(fileName) as csv_file:\n",
    "        csv_reader = csv.reader(csv_file, delimiter=',')\n",
    "        line_count = 0\n",
    "        for row in csv_reader:\n",
    "            if line_count == 0:\n",
    "                dataNames = row\n",
    "            else:\n",
    "                data.append(row)\n",
    "            line_count += 1\n",
    "    selectedVariable1 = dataNames.index(inputVariabName1)\n",
    "    inputs1 = [float(data[i][selectedVariable1]) if data[i][selectedVariable1] != '' else None for i in range(len(data))]\n",
    "    selectedVariable2 = dataNames.index(inputVariabName2)\n",
    "    inputs2 = [float(data[i][selectedVariable2]) if data[i][selectedVariable2] != '' else None for i in range(len(data))]\n",
    "    selectedOutput = dataNames.index(outputVariabName)\n",
    "    outputs = [float(data[i][selectedOutput]) if data[i][selectedOutput] != '' else None for i in range(len(data))]\n",
    "\n",
    "    inputs1, inputs2, outputs = zip(*[(i1, i2, o) for i1, i2, o in zip(inputs1, inputs2, outputs) if i1 is not None and i2 is not None and o is not None])\n",
    "\n",
    "    return list(inputs1), list(inputs2), list(outputs)\n",
    "\n"
   ],
   "id": "20e3f8403a761c91",
   "outputs": [],
   "execution_count": 34
  },
  {
   "metadata": {
    "ExecuteTime": {
     "end_time": "2025-04-09T11:17:49.304502Z",
     "start_time": "2025-04-09T11:17:49.283452Z"
    }
   },
   "cell_type": "code",
   "source": [
    "def add_ones_column(matrix):\n",
    "    # adauga o coloana de 1 la inceputul matricei pentru a include termenul de interceptare (w0)\n",
    "    return [[1] + list(row) for row in matrix]\n",
    "\n",
    "def transpose(matrix):\n",
    "    return list(map(list, zip(*matrix)))\n",
    "\n",
    "def dot_product(a, b):\n",
    "    return sum(x * y for x, y in zip(a, b))\n",
    "\n",
    "def matrix_multiply(a, b):\n",
    "    return [[dot_product(row, col) for col in transpose(b)] for row in a]\n",
    "\n",
    "def inverse(matrix):\n",
    "    n = len(matrix)\n",
    "    identity = [[float(i == j) for i in range(n)] for j in range(n)]\n",
    "    for i in range(n):\n",
    "        if matrix[i][i] == 0.0:\n",
    "            for j in range(i + 1, n):\n",
    "                if matrix[j][i] != 0.0:\n",
    "                    matrix[i], matrix[j] = matrix[j], matrix[i]\n",
    "                    identity[i], identity[j] = identity[j], identity[i]\n",
    "                    break\n",
    "\n",
    "        pivot = matrix[i][i]\n",
    "        for j in range(i, n):\n",
    "            matrix[i][j] /= pivot\n",
    "        for j in range(n):\n",
    "            identity[i][j] /= pivot\n",
    "        for j in range(n):\n",
    "            if i != j:\n",
    "                ratio = matrix[j][i]\n",
    "                for k in range(i, n):\n",
    "                    matrix[j][k] -= ratio * matrix[i][k]\n",
    "                for k in range(n):\n",
    "                    identity[j][k] -= ratio * identity[i][k]\n",
    "    return identity\n",
    "\n",
    "def trainModel(trainInputs, trainOutputs):\n",
    "    X = add_ones_column(trainInputs)\n",
    "    y = trainOutputs\n",
    "\n",
    "    # transpusa lui X\n",
    "    Xt = transpose(X)\n",
    "    # produsul lui Xt și X\n",
    "    XtX = matrix_multiply(Xt, X)\n",
    "    # inversa lui XtX\n",
    "    XtX_inv = inverse(XtX)\n",
    "    # produsul dintre inversa lui XtX și Xt\n",
    "    XtX_inv_Xt = matrix_multiply(XtX_inv, Xt)\n",
    "\n",
    "    # calc w folosind formula (Xt * X)^(-1) * Xt * y\n",
    "    w = [dot_product(row, y) for row in XtX_inv_Xt]\n",
    "\n",
    "    return w\n"
   ],
   "id": "5d67a35c490f6fbc",
   "outputs": [],
   "execution_count": 38
  },
  {
   "metadata": {
    "ExecuteTime": {
     "end_time": "2025-04-09T11:35:23.720414Z",
     "start_time": "2025-04-09T11:35:23.690571Z"
    }
   },
   "cell_type": "code",
   "source": [
    "inputVariabNames = ['Economy..GDP.per.Capita.', 'Freedom']\n",
    "outputVariabName = 'Happiness.Score'\n",
    "crtDir =  os.getcwd()\n",
    "filePath = os.path.join(crtDir, 'data', 'v1_world-happiness-report-2017.csv')\n",
    "\n",
    "inputGDP, inputFreedom, outputs = loadData2(filePath, inputVariabNames[0], inputVariabNames[1],outputVariabName)\n",
    "\n",
    "# split data into training data (80%) and testing data (20%)\n",
    "random.seed(5)\n",
    "indexes = [i for i in range(len(inputs))]\n",
    "trainSample = random.sample(indexes, int(0.8 * len(inputs)))\n",
    "validationSample = [i for i in indexes if i not in trainSample]\n",
    "\n",
    "#cream setul de training\n",
    "trainInputsGDP = [inputGDP[i] for i in trainSample]\n",
    "trainInputsFreedom = [inputFreedom[i] for i in trainSample]\n",
    "trainOutputs = [outputs[i] for i in trainSample]\n",
    "\n",
    "# cream setul de validare\n",
    "validationInputsGDP = [inputGDP[i] for i in validationSample]\n",
    "validationInputsFreedom = [inputFreedom[i] for i in validationSample]\n",
    "validationOutputs = [outputs[i] for i in validationSample]\n",
    "\n",
    "trainInputs = list(zip(trainInputsGDP, trainInputsFreedom))\n",
    "validationInputs = list(zip(validationInputsGDP, validationInputsFreedom))\n",
    "\n",
    "#antrenam modelul\n",
    "w = trainModel(trainInputs, trainOutputs)\n",
    "print('the learnt model: f(x) = ', w[0], ' + ', w[1], ' * x1 + ', w[2], ' * x2')\n",
    "\n",
    "#X = add_ones_column(validationInputs)\n",
    "X = [[1] + list(row) for row in validationInputs]\n",
    "\n",
    "computedValidationOutputs = [sum(x * y for x, y in zip(row, w)) for row in X]\n",
    "\n",
    "error = sum((t1 - t2) ** 2 for t1, t2 in zip(computedValidationOutputs, validationOutputs)) / len(validationOutputs)\n",
    "print('error: ', error)\n"
   ],
   "id": "dc88fe4b45c6588e",
   "outputs": [
    {
     "name": "stdout",
     "output_type": "stream",
     "text": [
      "the learnt model: f(x) =  2.6328794321899767  +  1.7743842047694993  * x1 +  2.3801762253152527  * x2\n",
      "error:  0.33518060140920786\n"
     ]
    }
   ],
   "execution_count": 42
  }
 ],
 "metadata": {
  "kernelspec": {
   "display_name": "Python 3",
   "language": "python",
   "name": "python3"
  },
  "language_info": {
   "codemirror_mode": {
    "name": "ipython",
    "version": 2
   },
   "file_extension": ".py",
   "mimetype": "text/x-python",
   "name": "python",
   "nbconvert_exporter": "python",
   "pygments_lexer": "ipython2",
   "version": "2.7.6"
  }
 },
 "nbformat": 4,
 "nbformat_minor": 5
}
