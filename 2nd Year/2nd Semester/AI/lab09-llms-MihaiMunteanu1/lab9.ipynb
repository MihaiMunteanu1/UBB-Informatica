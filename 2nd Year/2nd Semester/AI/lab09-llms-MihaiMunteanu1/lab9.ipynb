{
 "cells": [
  {
   "metadata": {
    "ExecuteTime": {
     "end_time": "2025-05-14T15:05:34.105727Z",
     "start_time": "2025-05-14T15:05:33.194241Z"
    }
   },
   "cell_type": "code",
   "source": [
    "from huggingface_hub import login\n",
    "login()"
   ],
   "id": "efb1197c988b6472",
   "outputs": [
    {
     "data": {
      "text/plain": [
       "VBox(children=(HTML(value='<center> <img\\nsrc=https://huggingface.co/front/assets/huggingface_logo-noborder.sv…"
      ],
      "application/vnd.jupyter.widget-view+json": {
       "version_major": 2,
       "version_minor": 0,
       "model_id": "c11a339ebf7e4cc88114c2ec2f783408"
      }
     },
     "metadata": {},
     "output_type": "display_data"
    }
   ],
   "execution_count": 1
  },
  {
   "metadata": {
    "ExecuteTime": {
     "end_time": "2025-05-14T15:07:55.200812Z",
     "start_time": "2025-05-14T15:06:25.866362Z"
    }
   },
   "cell_type": "code",
   "source": [
    "from transformers import AutoTokenizer, AutoModelForCausalLM\n",
    "import torch\n",
    "\n",
    "tokenizer = AutoTokenizer.from_pretrained(\"google/gemma-2b\")\n",
    "model = AutoModelForCausalLM.from_pretrained(\"google/gemma-2b\", torch_dtype=torch.float32)"
   ],
   "id": "68d7f16630b9ea19",
   "outputs": [
    {
     "data": {
      "text/plain": [
       "Loading checkpoint shards:   0%|          | 0/2 [00:00<?, ?it/s]"
      ],
      "application/vnd.jupyter.widget-view+json": {
       "version_major": 2,
       "version_minor": 0,
       "model_id": "9f998ed0bb6e471994a26c967f4eba15"
      }
     },
     "metadata": {},
     "output_type": "display_data"
    }
   ],
   "execution_count": 2
  },
  {
   "metadata": {
    "ExecuteTime": {
     "end_time": "2025-05-14T10:12:38.356243Z",
     "start_time": "2025-05-14T10:11:30.817219Z"
    }
   },
   "cell_type": "code",
   "source": [
    "\n",
    "prompt = \"\"\"Complete the following Shakespearean sonnet starting from the first line:\n",
    "\n",
    "FROM fairest creatures we desire increase,\"\"\"\n",
    "\n",
    "\n",
    "prompt_Romana = \"\"\"Completează următorul sonet în stilul lui Mihai Eminescu, începând cu primul vers:\n",
    "\n",
    "Când însuși glasul gândurilor tace,\"\"\"\n",
    "\n",
    "\n",
    "prompt_Pastel_Nature = \"\"\"Write verses in a calm and beautiful pastoral style, describing a peaceful spring morning in the countryside. Focus on the beauty of nature—flowers blooming, birds singing, and the gentle breeze. Use soft, vivid language to capture the tranquility of the scene. Each verse should evoke a sense of peace and harmony with the natural world.\n",
    "\n",
    "Write the poem, generate the verses:\n",
    "\"\"\"\n",
    "\n",
    "\n",
    "inputs = tokenizer(prompt, return_tensors=\"pt\")\n",
    "outputs = model.generate(\n",
    "    **inputs,\n",
    "    max_new_tokens=100, # daca ii mai mare genereaza text mai lung\n",
    "    # 0.6 pentru prompt, 0.9 pentru pastel\n",
    "    temperature=0.6, # cu cat ii mare - mai creativ,haotic :  mai mic - mai logic,repetitiv\n",
    "    top_p=0.9, # cu cat ii mare cu cat ii mai creativ\n",
    "    do_sample=True,\n",
    "    eos_token_id=tokenizer.eos_token_id, # previne generarea infinita\n",
    "    num_return_sequences = 1 # numarul de variante generate\n",
    ")\n",
    "\n",
    "result = tokenizer.decode(outputs[0], skip_special_tokens=True)\n",
    "print(result)"
   ],
   "id": "4b70eeff62ccfaa0",
   "outputs": [
    {
     "name": "stdout",
     "output_type": "stream",
     "text": [
      "Complete the following Shakespearean sonnet starting from the first line:\n",
      "\n",
      "FROM fairest creatures we desire increase,\n",
      "\n",
      "That thereby beauty's rose might never die,\n",
      "\n",
      "But as the riper should by time decease,\n",
      "\n",
      "His tender heir might bear his memory:\n",
      "\n",
      "But thy perfection doubtless durst show,\n",
      "\n",
      "If, for thy sake, we then have been\n",
      "\n",
      "To bend to thee our bodies and our blood,\n",
      "\n",
      "To which our souls are bound forever.\n",
      "\n",
      "A. What does the speaker mean by the \"world\" 'in lines 2 and 3? B. What is the \"\n"
     ]
    }
   ],
   "execution_count": 73
  },
  {
   "metadata": {
    "ExecuteTime": {
     "end_time": "2025-05-14T16:06:45.884903Z",
     "start_time": "2025-05-14T16:05:44.939905Z"
    }
   },
   "cell_type": "code",
   "source": [
    "\n",
    "prompt_Romana = \"\"\"Completează următorul sonet în stilul lui Mihai Eminescu, începând cu primul vers:\n",
    "\n",
    "Când însuși glasul gândurilor tace,\"\"\"\n",
    "\n",
    "\n",
    "\n",
    "inputs = tokenizer(prompt_Romana, return_tensors=\"pt\")\n",
    "outputs = model.generate(\n",
    "    **inputs,\n",
    "    max_new_tokens=100,\n",
    "    temperature=0.6,\n",
    "    top_k = 20,\n",
    "    top_p=0.9,\n",
    "    do_sample=True,\n",
    "    eos_token_id=tokenizer.eos_token_id,\n",
    "    num_return_sequences = 1\n",
    ")\n",
    "\n",
    "result = tokenizer.decode(outputs[0], skip_special_tokens=True)\n",
    "print(result)"
   ],
   "id": "cc49fd0ca8779ba",
   "outputs": [
    {
     "name": "stdout",
     "output_type": "stream",
     "text": [
      "Completează următorul sonet în stilul lui Mihai Eminescu, începând cu primul vers:\n",
      "\n",
      "Când însuși glasul gândurilor tace,\n",
      "\n",
      "Când nu mai e nimic ca să se spargă\n",
      "\n",
      "De-a mărturisit, de-a mărturisit\n",
      "\n",
      "De-a mărturisit, de-a mărturisit\n",
      "\n",
      "...\n",
      "\n",
      "Când nu mai e nimic ca să se spargă\n",
      "\n",
      "De-a mărturisit, de-a mărturisit\n",
      "\n",
      "De-a mărturisit, de-a mărturisit\n",
      "\n",
      "De-a mărturisit\n"
     ]
    }
   ],
   "execution_count": 13
  },
  {
   "metadata": {},
   "cell_type": "markdown",
   "source": "<h3> LLM antrenat pe poezii: </h3>\n",
   "id": "e800621dda925ecb"
  },
  {
   "metadata": {
    "ExecuteTime": {
     "end_time": "2025-05-14T15:08:19.231772Z",
     "start_time": "2025-05-14T15:08:06.601720Z"
    }
   },
   "cell_type": "code",
   "source": [
    "from transformers import GPT2Tokenizer, TFGPT2LMHeadModel,GPT2LMHeadModel, AutoTokenizer, AutoModelForCausalLM\n",
    "import tensorflow as tf\n",
    "\n",
    "tokenizer2 = GPT2Tokenizer.from_pretrained(\"ashiqabdulkhader/GPT2-Poet\")\n",
    "model2 = TFGPT2LMHeadModel.from_pretrained(\"ashiqabdulkhader/GPT2-Poet\")\n",
    "\n"
   ],
   "id": "188d6fea941b4a3c",
   "outputs": [
    {
     "name": "stdout",
     "output_type": "stream",
     "text": [
      "WARNING:tensorflow:From C:\\Users\\munte\\AppData\\Local\\Programs\\Python\\Python312\\Lib\\site-packages\\tf_keras\\src\\losses.py:2976: The name tf.losses.sparse_softmax_cross_entropy is deprecated. Please use tf.compat.v1.losses.sparse_softmax_cross_entropy instead.\n",
      "\n",
      "WARNING:tensorflow:From C:\\Users\\munte\\AppData\\Local\\Programs\\Python\\Python312\\Lib\\site-packages\\tf_keras\\src\\backend.py:873: The name tf.get_default_graph is deprecated. Please use tf.compat.v1.get_default_graph instead.\n",
      "\n"
     ]
    },
    {
     "name": "stderr",
     "output_type": "stream",
     "text": [
      "All model checkpoint layers were used when initializing TFGPT2LMHeadModel.\n",
      "\n",
      "All the layers of TFGPT2LMHeadModel were initialized from the model checkpoint at ashiqabdulkhader/GPT2-Poet.\n",
      "If your task is similar to the task the model of the checkpoint was trained on, you can already use TFGPT2LMHeadModel for predictions without further training.\n"
     ]
    }
   ],
   "execution_count": 3
  },
  {
   "metadata": {
    "ExecuteTime": {
     "end_time": "2025-05-14T10:14:19.127602Z",
     "start_time": "2025-05-14T10:13:51.115900Z"
    }
   },
   "cell_type": "code",
   "source": [
    "text = \"FROM fairest creatures we desire increase,\"\n",
    "text_Romana = \"Când însuși glasul gândurilor tace\"\n",
    "\n",
    "text_Pastel = \"\"\"Write verses in a calm and beautiful pastoral style, describing a peaceful spring morning in the countryside. Focus on the beauty of nature—flowers blooming, birds singing, and the gentle breeze. Use soft, vivid language to capture the tranquility of the scene. Each verse should evoke a sense of peace and harmony with the natural world.\n",
    "\n",
    "Write the poem, generate the verses:\n",
    "\"\"\"\n",
    "\n",
    "# Codifică promptul\n",
    "inputs = tokenizer2(text, return_tensors=\"tf\")\n",
    "\n",
    "\n",
    "sample_outputs = model2.generate(\n",
    "    input_ids=inputs[\"input_ids\"],\n",
    "    attention_mask=inputs[\"attention_mask\"],\n",
    "    do_sample=True,\n",
    "    # 100 pt text, 200 pastel\n",
    "    max_length=100,\n",
    "    top_k=0, # estimeaza probabilitati pt cuvinte si alege aleator doar primele n\n",
    "    top_p=0.9,\n",
    "    temperature=1.0,\n",
    "    num_return_sequences=1\n",
    ")\n",
    "\n",
    "print(\"Output:\", tokenizer2.decode(sample_outputs[0], skip_special_tokens=True))\n",
    "\n"
   ],
   "id": "ef037dcb801b7dee",
   "outputs": [
    {
     "name": "stdout",
     "output_type": "stream",
     "text": [
      "Output: FROM fairest creatures we desire increase, and like stars. likewise the night i rode back to my little east (which i have not thought of love as i've pried in a play that i am trying to be the last half hour from the flower of the morning—but the still shadowy is that we once had still half buried beneath) for me a wonder for me has come, and the still voice of thy lips made pale in thy breath, and the still silent is taller now than\n"
     ]
    }
   ],
   "execution_count": 75
  },
  {
   "metadata": {
    "ExecuteTime": {
     "end_time": "2025-05-14T15:58:40.913665Z",
     "start_time": "2025-05-14T15:58:20.139453Z"
    }
   },
   "cell_type": "code",
   "source": [
    "text_Romana = \"Când însuși glasul gândurilor tace\"\n",
    "\n",
    "\n",
    "# Codifică promptul\n",
    "inputs = tokenizer2(text_Romana, return_tensors=\"tf\")\n",
    "\n",
    "\n",
    "sample_outputs = model2.generate(\n",
    "    input_ids=inputs[\"input_ids\"],\n",
    "    attention_mask=inputs[\"attention_mask\"],\n",
    "    do_sample=True,\n",
    "    max_length=100,\n",
    "    top_k=20,\n",
    "    top_p=0.9,\n",
    "    temperature=1.0,\n",
    "    num_return_sequences=1\n",
    ")\n",
    "\n",
    "print(\"Output:\", tokenizer2.decode(sample_outputs[0], skip_special_tokens=True))\n",
    "\n"
   ],
   "id": "d78d3df8d598b585",
   "outputs": [
    {
     "name": "stdout",
     "output_type": "stream",
     "text": [
      "Output: Când însuși glasul gândurilor tace. still, a girl,with no clue, saved at her, and kept back,i broke a girl. and now the mirror strikes,its long black pinwheel slack as she pins!the whole town, as ever, hearing, fall, its last look has time to follow.the stenchy, melancholy, melancholy, eternally steep,yet from the margin of her frame has\n"
     ]
    }
   ],
   "execution_count": 10
  },
  {
   "metadata": {
    "ExecuteTime": {
     "end_time": "2025-05-14T16:01:22.635282Z",
     "start_time": "2025-05-14T16:00:47.784793Z"
    }
   },
   "cell_type": "code",
   "source": [
    "text_Pastel = \"\"\"Write verses in a calm and beautiful pastoral style, describing a peaceful spring morning in the countryside. Focus on the beauty of nature—flowers blooming, birds singing, and the gentle breeze. Use soft, vivid language to capture the tranquility of the scene. Each verse should evoke a sense of peace and harmony with the natural world.\n",
    "\n",
    "Write the poem, generate the verses:\n",
    "\"\"\"\n",
    "\n",
    "# Codifică promptul\n",
    "inputs = tokenizer2(text_Pastel, return_tensors=\"tf\")\n",
    "\n",
    "\n",
    "sample_outputs = model2.generate(\n",
    "    input_ids=inputs[\"input_ids\"],\n",
    "    attention_mask=inputs[\"attention_mask\"],\n",
    "    do_sample=True,\n",
    "    max_length=200,\n",
    "    top_k=0,\n",
    "    top_p=0.9,\n",
    "    temperature=1.0,\n",
    "    num_return_sequences=1\n",
    ")\n",
    "\n",
    "print(\"Output:\", tokenizer2.decode(sample_outputs[0], skip_special_tokens=True))"
   ],
   "id": "f7e3195afbb22e5d",
   "outputs": [
    {
     "name": "stdout",
     "output_type": "stream",
     "text": [
      "Output: Write verses in a calm and beautiful pastoral style, describing a peaceful spring morning in the countryside. Focus on the beauty of nature—flowers blooming, birds singing, and the gentle breeze. Use soft, vivid language to capture the tranquility of the scene. Each verse should evoke a sense of peace and harmony with the natural world.\n",
      "\n",
      "Write the poem, generate the verses:\n",
      "\n",
      "and after a word, each moment is sanctified, or a tale from the wagons.\n",
      "\n",
      "strike stiffen and noisy admiring the future comes in the spring of the after the low of a sea.\n",
      "\n",
      "\n",
      "hang on a weird act of a singing after the sky: orchard, orchard, and yawn at least come on a cry in a larger farthest covetendomic orchard, orchard, or night orchard\n",
      "\n",
      "\n",
      "\n",
      "time in the blue hills, and orchard, and hold it always a timbreasts like a sort of vial\n"
     ]
    }
   ],
   "execution_count": 11
  },
  {
   "metadata": {},
   "cell_type": "markdown",
   "source": [
    "c1: al doilea text ii mai profund si se potriveste mai bine cu primul vers <br>\n",
    "la primul, trebuie sa setez temperature mai mica ca sa-mi genereze bine, in schimb la al doilea merge cu 1.0 <br>\n",
    "c2: imi genereaza versuri normal, in limba engleza <br>\n",
    "c3: primul LLM: dureaza mai mult, mi-a repetat de mai multe ori un vers <br>\n",
    "    al doilea LLM: primul vers e in romana, si celelalte in engleza <br>\n",
    "c.4 pentru primul LLM imi genereaza in limba romana <br>\n",
    "    al doilea LLM imi genereaza in limba engleza <br>\n",
    "c.5: sa-i dau un prompt mai lung si mai specific sau sa antrenam model pe poezii de tip pastel"
   ],
   "id": "ccb9cdaeec8a6f01"
  }
 ],
 "metadata": {
  "kernelspec": {
   "display_name": "Python 3",
   "language": "python",
   "name": "python3"
  },
  "language_info": {
   "codemirror_mode": {
    "name": "ipython",
    "version": 2
   },
   "file_extension": ".py",
   "mimetype": "text/x-python",
   "name": "python",
   "nbconvert_exporter": "python",
   "pygments_lexer": "ipython2",
   "version": "2.7.6"
  }
 },
 "nbformat": 4,
 "nbformat_minor": 5
}
